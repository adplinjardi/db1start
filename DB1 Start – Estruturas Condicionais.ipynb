{
 "cells": [
  {
   "cell_type": "markdown",
   "id": "8dcb999f",
   "metadata": {},
   "source": [
    "<img src=\"https://i.imgur.com/UDaZSao.png\" style=\"display: block;\n",
    "  margin-left: auto;\n",
    "  margin-right: auto;\n",
    "  width: 15%;\">\n",
    "  \n",
    " <h1 style=\"font-size:2em;font-family:Helvetica, sans-serif;color:red;text-align: center;\">DB1 START – ESTRUTURAS CONDICIONAIS</h1>\n",
    " <p></p>\n",
    " <p style=\"font-family: Helvetica, sans-serif; margin: 0;text-indent: 3em;\n",
    "  \">Estes são os exercícios propostos pela atividade da 4ª Semana do Curso DB1 Start, trabalhando os tópicos sobre Estruturas Condicionais na linguagem Python. Este trabalho utiliza o Jupyter Notebook, e os conceitos de IDE e Versionamento para apresentação dos resultados.</p>"
   ]
  },
  {
   "cell_type": "markdown",
   "id": "ca3c9757",
   "metadata": {},
   "source": [
    "# Lista de Exercícios"
   ]
  },
  {
   "cell_type": "markdown",
   "id": "d803ad2c",
   "metadata": {},
   "source": [
    "#### 1. Faça um Programa que peça dois números e imprima o maior deles. "
   ]
  },
  {
   "cell_type": "code",
   "execution_count": 1,
   "id": "17eef2e8",
   "metadata": {},
   "outputs": [
    {
     "name": "stdout",
     "output_type": "stream",
     "text": [
      "Digite um número: 5\n",
      "Digite outro número: 3\n",
      "O maior numero informado é 5\n"
     ]
    }
   ],
   "source": [
    "n1 = int(input('Digite um número: '))\n",
    "n2 = int(input('Digite outro número: '))\n",
    "\n",
    "if n1 > n2:\n",
    "    print('O maior numero informado é', n1)\n",
    "elif (n1 == n2):\n",
    "    print('Os números são iguais')\n",
    "else:\n",
    "    print('O maior numero informado é', n2)"
   ]
  },
  {
   "cell_type": "markdown",
   "id": "888a83ab",
   "metadata": {},
   "source": [
    "#### 2. Faça um Programa que peça um valor e mostre na tela se o valor é positivo ou negativo. "
   ]
  },
  {
   "cell_type": "code",
   "execution_count": 2,
   "id": "bdb7b066",
   "metadata": {},
   "outputs": [
    {
     "name": "stdout",
     "output_type": "stream",
     "text": [
      "Digite um número: -1.2\n",
      "O número digitado é negativo!\n"
     ]
    }
   ],
   "source": [
    "n = float(input('Digite um número: '))\n",
    "\n",
    "if n >= 0:\n",
    "    print('O número digitado é positivo!')\n",
    "else:\n",
    "    print('O número digitado é negativo!')"
   ]
  },
  {
   "cell_type": "markdown",
   "id": "a6c3309e",
   "metadata": {},
   "source": [
    "#### 3. Faça um Programa que verifique se uma letra digitada é \"F\" ou \"M\". Conforme a letra escrever: F - Feminino, M - Masculino, Sexo Inválido."
   ]
  },
  {
   "cell_type": "code",
   "execution_count": 3,
   "id": "4b763f15",
   "metadata": {},
   "outputs": [
    {
     "name": "stdout",
     "output_type": "stream",
     "text": [
      "Digite o sexo (M ou F): F\n",
      "F - Feminino\n"
     ]
    }
   ],
   "source": [
    "s = input('Digite o sexo (M ou F): ').upper()\n",
    "\n",
    "if s == \"M\":\n",
    "    print('M - Masculino')\n",
    "elif s == \"F\":\n",
    "    print('F - Feminino')\n",
    "else:\n",
    "    print('Sexo inválido!')"
   ]
  },
  {
   "cell_type": "markdown",
   "id": "8c9378ff",
   "metadata": {},
   "source": [
    "#### 4. Faça um Programa que verifique se uma letra digitada é vogal ou consoante. "
   ]
  },
  {
   "cell_type": "code",
   "execution_count": 4,
   "id": "b950f975",
   "metadata": {},
   "outputs": [
    {
     "name": "stdout",
     "output_type": "stream",
     "text": [
      "Digite uma letra: K\n",
      "A letra K é consoante!\n"
     ]
    }
   ],
   "source": [
    "l = input('Digite uma letra: ').upper()\n",
    "\n",
    "if l == \"A\" or l == \"E\" or l == \"I\" or l == \"O\" or l == \"U\":\n",
    "    print(f'A letra {l} é vogal!')\n",
    "else:\n",
    "    print(f'A letra {l} é consoante!')"
   ]
  },
  {
   "cell_type": "markdown",
   "id": "b1a7811f",
   "metadata": {},
   "source": [
    "#### 5. Faça um programa para a leitura de duas notas parciais de um aluno. O programa deve calcular a média alcançada pelo aluno e apresentar:\n",
    "<p>\"A mensagem “Aprovado”, se a média alcançada for maior ou igual a sete;<br/>\n",
    "A mensagem “Reprovado”, se a média for menor do que sete;<br/>\n",
    "A mensagem “Aprovado com Distinção”, se a média for igual a dez.”</p>"
   ]
  },
  {
   "cell_type": "code",
   "execution_count": 5,
   "id": "209bde0a",
   "metadata": {},
   "outputs": [
    {
     "name": "stdout",
     "output_type": "stream",
     "text": [
      "Digite a nota parcial 1: 7.5\n",
      "Digite a nota parcial 2: 9.2\n",
      "Aprovado\n"
     ]
    }
   ],
   "source": [
    "n1 = float(input('Digite a nota parcial 1: '))\n",
    "n2 = float(input('Digite a nota parcial 2: '))\n",
    "media = (n1 + n2) / 2\n",
    "\n",
    "if media < 7:\n",
    "    print('Reprovado!')\n",
    "elif media >= 7:\n",
    "    if media == 10:\n",
    "        print('Aprovado com Distinção!')\n",
    "    else:\n",
    "        print('Aprovado')"
   ]
  },
  {
   "cell_type": "markdown",
   "id": "35479e54",
   "metadata": {},
   "source": [
    "#### 6. Faça um Programa que leia três números e mostre o maior e o menor deles. "
   ]
  },
  {
   "cell_type": "code",
   "execution_count": 7,
   "id": "44de362a",
   "metadata": {},
   "outputs": [
    {
     "name": "stdout",
     "output_type": "stream",
     "text": [
      "Digite o primeiro número: 15\n",
      "Digite o segundo número: 42\n",
      "Digite o terceiro número: 8\n",
      "\n",
      "O maior número é 42.0 e o menor é 8.0!\n"
     ]
    }
   ],
   "source": [
    "n1 = float(input('Digite o primeiro número: '))\n",
    "n2 = float(input('Digite o segundo número: '))\n",
    "n3 = float(input('Digite o terceiro número: '))\n",
    "\n",
    "maior = n1\n",
    "if maior < n2:\n",
    "    maior = n2\n",
    "if maior < n3:\n",
    "    maior = n3\n",
    "\n",
    "menor = n1    \n",
    "if menor > n2:\n",
    "    menor = n2\n",
    "if menor > n3:\n",
    "    menor = n3\n",
    "    \n",
    "print()\n",
    "print(f'O maior número é {maior:} e o menor é {menor}!')"
   ]
  },
  {
   "cell_type": "markdown",
   "id": "42dcef2c",
   "metadata": {},
   "source": [
    "#### 7. Faça um programa que pergunte o preço de três produtos e informe qual produto você deve comprar, sabendo que a decisão é sempre pelo mais barato. "
   ]
  },
  {
   "cell_type": "code",
   "execution_count": 9,
   "id": "d4cb4338",
   "metadata": {},
   "outputs": [
    {
     "name": "stdout",
     "output_type": "stream",
     "text": [
      "Digite o preço do produto 1: 15.99\n",
      "Digite o preço do produto 2: 11.99\n",
      "Digite o preço do produto 3: 29.99\n",
      "\n",
      "Você deve comprar o produto nº 2, com preço de R$ 11.99!\n"
     ]
    }
   ],
   "source": [
    "n1 = float(input('Digite o preço do produto 1: '))\n",
    "n2 = float(input('Digite o preço do produto 2: '))\n",
    "n3 = float(input('Digite o preço do produto 3: '))\n",
    "\n",
    "menor = n1\n",
    "produto = 1\n",
    "if menor > n2:\n",
    "    menor = n2\n",
    "    produto = 2\n",
    "if menor > n3:\n",
    "    menor = n3\n",
    "    produto = 3\n",
    "\n",
    "print()\n",
    "print(f'Você deve comprar o produto nº {produto}, com preço de R$ {menor:.2f}!')"
   ]
  },
  {
   "cell_type": "markdown",
   "id": "0e21d111",
   "metadata": {},
   "source": [
    "#### 8. Faça um Programa que leia três números e mostre-os em ordem decrescente."
   ]
  },
  {
   "cell_type": "code",
   "execution_count": 11,
   "id": "1d6f3361",
   "metadata": {},
   "outputs": [
    {
     "name": "stdout",
     "output_type": "stream",
     "text": [
      "Digite o número 1: 5\n",
      "Digite o número 2: 2\n",
      "Digite o número 3: 8\n",
      "\n",
      "Ordem decrescente: 8 5 2\n"
     ]
    }
   ],
   "source": [
    "n1 = int(input('Digite o número 1: '))\n",
    "n2 = int(input('Digite o número 2: '))\n",
    "n3 = int(input('Digite o número 3: '))\n",
    "\n",
    "a = n1\n",
    "b = n2\n",
    "c = n3\n",
    "\n",
    "if a < b:\n",
    "    aux = a\n",
    "    a = b\n",
    "    b = aux\n",
    "if a < c:\n",
    "    aux = a \n",
    "    a = c\n",
    "    c = aux\n",
    "if b < c:\n",
    "    aux = b \n",
    "    b = c\n",
    "    c = aux\n",
    "\n",
    "print()\n",
    "print(f'Ordem decrescente: {a} {b} {c}')"
   ]
  },
  {
   "cell_type": "markdown",
   "id": "c5b716ea",
   "metadata": {},
   "source": [
    "#### 9. Faça um Programa que pergunte em que turno você estuda. Peça para digitar M-Matutino ou V- Vespertino ou N- Noturno. Imprima a mensagem \"Bom Dia!\", \"Boa Tarde!\" ou \"Boa Noite!\" ou \"Valor Inválido!\", conforme o caso"
   ]
  },
  {
   "cell_type": "code",
   "execution_count": 12,
   "id": "b84fb13e",
   "metadata": {},
   "outputs": [
    {
     "name": "stdout",
     "output_type": "stream",
     "text": [
      "Digite o turno em que você estuda:\n",
      "M para Matutino, V para Vespertino ou N para Noturno\n",
      "> V\n",
      "Boa tarde!\n"
     ]
    }
   ],
   "source": [
    "print('Digite o turno em que você estuda:')\n",
    "print('M para Matutino, V para Vespertino ou N para Noturno')\n",
    "turno = input('> ')\n",
    "\n",
    "if turno == \"M\":\n",
    "    print('Bom dia!')\n",
    "elif turno == \"V\":\n",
    "    print('Boa tarde!')\n",
    "elif turno == \"N\":\n",
    "    print('Boa noite!')\n",
    "else:\n",
    "    print('Valor inválido!')"
   ]
  },
  {
   "cell_type": "markdown",
   "id": "16add5c5",
   "metadata": {},
   "source": [
    "#### 10. As Organizações Tabajara resolveram dar um aumento de salário aos seus colaboradores e lhe contraram para desenvolver o programa que calculará os reajustes.\n",
    "<p>Faça um programa que recebe o salário de um colaborador e o reajuste segundo o seguinte critério, baseado no salário atual:<br/>\n",
    "# salários até 280,00 (incluindo) : aumento de 20%<br/>\n",
    "# salários entre 280,00 e 700,00 : aumento de 15%<br/>\n",
    "# salários entre 700,00 e 1500,00 : aumento de 10%<br/>\n",
    "# salários de 1500,00 em diante : aumento de 5%<br/><br/>\n",
    "Após o aumento ser realizado, informe na tela:<br/>\n",
    "# o salário antes do reajuste;<br/>\n",
    "# o percentual de aumento aplicado;<br/>\n",
    "# o valor do aumento;<br/>\n",
    "# o novo salário, após o aumento.<br/></p>"
   ]
  },
  {
   "cell_type": "code",
   "execution_count": 13,
   "id": "f39e9488",
   "metadata": {},
   "outputs": [
    {
     "name": "stdout",
     "output_type": "stream",
     "text": [
      "Digite o salário do colaborador: 2000\n",
      "\n",
      "Salário antes do reajuste: R$ 2000.00\n",
      "Percentual do aumento: 5%\n",
      "Valor do aumento: R$ 100.00\n",
      "Novo salário: R$ 2100.00\n"
     ]
    }
   ],
   "source": [
    "salario = float(input('Digite o salário do colaborador: '))\n",
    "\n",
    "if salario <= 280:\n",
    "    p = 0.20\n",
    "elif salario > 280 and salario <= 700:\n",
    "    p = 0.15\n",
    "elif salario > 700 and salario <= 1500:\n",
    "    p = 0.10\n",
    "else:\n",
    "    p = 0.05\n",
    "    \n",
    "aumento = salario * p\n",
    "novo = salario * (1+p)\n",
    "\n",
    "print()\n",
    "print('Salário antes do reajuste: R$ {:.2f}'.format(salario))\n",
    "print(f'Percentual do aumento: {(p * 100):.0f}%')\n",
    "print('Valor do aumento: R$ {:.2f}'.format(aumento))\n",
    "print('Novo salário: R$ {:.2f}'.format(novo))"
   ]
  },
  {
   "cell_type": "markdown",
   "id": "f4fe58cb",
   "metadata": {},
   "source": [
    "#### 11. Faça um programa para o cálculo de uma folha de pagamento, sabendo que os descontos são do Imposto de Renda, que depende do salário bruto (conforme tabela abaixo) e...\n",
    "<p>\n",
    "# 3% para o Sindicato e que o FGTS corresponde a 11% do Salário Bruto, mas não é descontado (é a empresa que deposita).<br/>\n",
    "# O Salário Líquido corresponde ao Salário Bruto menos os descontos.<br/>\n",
    "# O programa deverá pedir ao usuário o valor da sua hora e a quantidade de horas trabalhadas no mês.<br/><br/>\n",
    "# Desconto do IR:\n",
    "# Salário Bruto até 900 (inclusive) – isento<br/>\n",
    "# Salário Bruto até 1500 (inclusive) – desconto de 5%<br/>\n",
    "# Salário Bruto até 2500 (inclusive) – desconto de 10%<br/>\n",
    "# Salário Bruto acima de 2500 – desconto de 20% Imprima na tela as informações<br/></p>"
   ]
  },
  {
   "cell_type": "code",
   "execution_count": 15,
   "id": "647926a4",
   "metadata": {},
   "outputs": [
    {
     "name": "stdout",
     "output_type": "stream",
     "text": [
      "Digite o valor de sua hora: 21\n",
      "Digite o número de horas trabalhadas: 20\n",
      "\n",
      "Salário bruto: + R$ 420.00\n",
      "Sindicato: R$ -12.60\n",
      "Imposto de Renda: Isento\n",
      "-------------------------------------\n",
      "Salário líquido: R$ 407.40\n",
      "FGTS: R$ 46.20\n"
     ]
    }
   ],
   "source": [
    "valor_hora = float(input('Digite o valor de sua hora: '))\n",
    "qtd_horas = float(input('Digite o número de horas trabalhadas: '))\n",
    "\n",
    "bruto = valor_hora * qtd_horas\n",
    "sindicato = bruto * 0.03\n",
    "fgts = bruto * 0.11\n",
    "\n",
    "if bruto <= 900:\n",
    "    ir = 0\n",
    "elif bruto > 900 and bruto <= 1500:\n",
    "    ir = bruto * 0.05\n",
    "elif bruto > 1500 and bruto <= 2500:\n",
    "    ir = bruto * 0.1\n",
    "else:\n",
    "    ir = bruto * 0.2\n",
    "    \n",
    "liquido = bruto - sindicato - ir\n",
    "\n",
    "print()\n",
    "print('Salário bruto: + R$ {:.2f}'.format(bruto))\n",
    "print('Sindicato: R$ -{:.2f}'.format(sindicato))\n",
    "if ir == 0:\n",
    "    print('Imposto de Renda: Isento')\n",
    "else:\n",
    "    print('Imposto de Renda: R$ -{:.2f}'.format(ir))\n",
    "print('-------------------------------------')\n",
    "print('Salário líquido: R$ {:.2f}'.format(liquido))\n",
    "print('FGTS: R$ {:.2f}'.format(fgts))"
   ]
  },
  {
   "cell_type": "markdown",
   "id": "adfc5ad0",
   "metadata": {},
   "source": [
    "#### 12. Faça um Programa que leia um número e exiba o dia correspondente da semana. (1-Domingo, 2- Segunda, etc.), se digitar outro valor deve aparecer valor inválido."
   ]
  },
  {
   "cell_type": "code",
   "execution_count": 16,
   "id": "6a80be70",
   "metadata": {},
   "outputs": [
    {
     "name": "stdout",
     "output_type": "stream",
     "text": [
      "Digite o dia da semana: 2\n",
      "2-Segunda\n"
     ]
    }
   ],
   "source": [
    "dia = int(input('Digite o dia da semana: '))\n",
    "\n",
    "if dia == 1:\n",
    "    print(f'{dia}-Domingo')\n",
    "elif dia == 2:\n",
    "    print(f'{dia}-Segunda')\n",
    "elif dia == 3:\n",
    "    print(f'{dia}-Terça')\n",
    "elif dia == 4:\n",
    "    print(f'{dia}-Quarta')\n",
    "elif dia == 5:\n",
    "    print(f'{dia}-Quinta')\n",
    "elif dia == 6:\n",
    "    print(f'{dia}-Sexta')\n",
    "elif dia == 7:\n",
    "    print(f'{dia}-Sábado')\n",
    "else:\n",
    "    print('Valor inválido!')"
   ]
  },
  {
   "cell_type": "markdown",
   "id": "515c2a3c",
   "metadata": {},
   "source": [
    "#### 13. Faça um programa que lê as duas notas parciais obtidas por um aluno numa disciplina ao longo de um semestre, e calcule a sua média. A atribuição de conceitos obedece à tabela abaixo: \n",
    "<p>Conceito Entre 9.0 e 10.0: A<br/>\n",
    "Entre 7.5 e 9.0: B<br/>\n",
    "Entre 6.0 e 7.5: C<br/> \n",
    "Entre 4.0 e 6.0: D<br/>\n",
    "Entre 4.0 e zero: E<br/>\n",
    "O algoritmo deve mostrar na tela as notas, a média, o conceito correspondente e a mensagem “APROVADO” se o conceito for A, B ou C ou “REPROVADO” se o conceito for D ou E."
   ]
  },
  {
   "cell_type": "code",
   "execution_count": 17,
   "id": "0d4601dc",
   "metadata": {},
   "outputs": [
    {
     "name": "stdout",
     "output_type": "stream",
     "text": [
      "Digite a nota parcial 1: 9.5\n",
      "Digite a nota parcial 2: 5.5\n",
      "\n",
      "Nota parcial 1:  9.5\n",
      "Nota parcial 2:  5.5\n",
      "Média:  7.5\n",
      "Conceito:  B\n",
      "APROVADO!\n"
     ]
    }
   ],
   "source": [
    "n1 = float(input('Digite a nota parcial 1: '))\n",
    "n2 = float(input('Digite a nota parcial 2: '))\n",
    "media = (n1 + n2) / 2\n",
    "\n",
    "if media >= 9 and media <= 10:\n",
    "    conceito = \"A\"\n",
    "elif media >= 7.5 and media < 9:\n",
    "    conceito = \"B\"\n",
    "elif media >= 6 and media < 7.5:\n",
    "    conceito = \"C\"\n",
    "elif media >= 4 and media < 6:\n",
    "    conceito = \"D\"\n",
    "else:\n",
    "    conceito = \"E\"\n",
    "    \n",
    "print()    \n",
    "print('Nota parcial 1: ', n1)\n",
    "print('Nota parcial 2: ', n2)\n",
    "print('Média: ', media)\n",
    "print('Conceito: ', conceito)\n",
    "if conceito == \"D\" or conceito == \"E\":\n",
    "    print('REPROVADO!')\n",
    "else:\n",
    "    print('APROVADO!')"
   ]
  },
  {
   "cell_type": "markdown",
   "id": "8bf3f9e0",
   "metadata": {},
   "source": [
    "#### 14. Faça um Programa que peça os três lados de um triângulo. O programa deverá informar se os valores podem serum triângulo. Indique, caso os lados formem um triângulo, se o mesmo é: equilátero, isósceles ou escaleno."
   ]
  },
  {
   "cell_type": "code",
   "execution_count": 18,
   "id": "cbe96edd",
   "metadata": {},
   "outputs": [
    {
     "name": "stdout",
     "output_type": "stream",
     "text": [
      "Digite o lado 1 do triângulo: 10\n",
      "Digite o lado 2 do triângulo: 15\n",
      "Digite o lado 3 do triângulo: 10\n",
      "O triângulo é isósceles!\n"
     ]
    }
   ],
   "source": [
    "n1 = float(input('Digite o lado 1 do triângulo: '))\n",
    "n2 = float(input('Digite o lado 2 do triângulo: '))\n",
    "n3 = float(input('Digite o lado 3 do triângulo: '))\n",
    "\n",
    "if n1 + n2 > n3 and n2 + n3 > n1 and n1 + n3 > n2:\n",
    "    if n1 == n2 == n3:\n",
    "        print('O triângulo é equilátero!')\n",
    "    elif n1 == n2 or n2 == n3 or n1 == n3:\n",
    "        print('O triângulo é isósceles!')\n",
    "    else:\n",
    "        print('O triângulo é escaleno!')\n",
    "else:\n",
    "    print('Os lados informados não formam um triângulo')"
   ]
  },
  {
   "cell_type": "markdown",
   "id": "947c352d",
   "metadata": {},
   "source": [
    "#### 15. Faça um programa que calcule as raízes de uma equação do segundo grau, na forma ax2 + bx + c."
   ]
  },
  {
   "cell_type": "code",
   "execution_count": 21,
   "id": "dce9cb02",
   "metadata": {},
   "outputs": [
    {
     "name": "stdout",
     "output_type": "stream",
     "text": [
      "Digite os termos da equação ax² + b + c: 1 -3 -10\n",
      "As raízes dessa equação são 5.00 e -2.00\n"
     ]
    }
   ],
   "source": [
    "from math import sqrt\n",
    "\n",
    "a, b, c = input('Digite os termos da equação ax² + b + c: ').split(' ')\n",
    "\n",
    "a = int(a)\n",
    "b = int(b)\n",
    "c = int(c)\n",
    "\n",
    "delta = (b ** 2) - 4 * a * c\n",
    "\n",
    "if delta < 0:\n",
    "    print('Essa equação não tem raízes reais!')\n",
    "else:\n",
    "    x1 = (-b + sqrt(delta))/(2*a)\n",
    "    x2 = (-b - sqrt(delta))/(2*a)\n",
    "    print(f'As raízes dessa equação são {x1:.2f} e {x2:.2f}')"
   ]
  },
  {
   "cell_type": "markdown",
   "id": "211f2ce3",
   "metadata": {},
   "source": [
    "#### 16. Faça um Programa que peça um número correspondente a um determinado ano e em seguida informe se este ano é ou não bissexto."
   ]
  },
  {
   "cell_type": "code",
   "execution_count": 23,
   "id": "02ca7a00",
   "metadata": {},
   "outputs": [
    {
     "name": "stdout",
     "output_type": "stream",
     "text": [
      "Digite o ano: 2020\n",
      "2020 é um ano bissexto!\n"
     ]
    }
   ],
   "source": [
    "ano = int(input('Digite o ano: '))\n",
    "if ano % 4 == 0:\n",
    "    print(f'{ano} é um ano bissexto!')\n",
    "else:\n",
    "    print(f'{ano} não é um ano bissexto!')"
   ]
  },
  {
   "cell_type": "markdown",
   "id": "806f4e4c",
   "metadata": {},
   "source": [
    "#### 17. Faça um Programa que peça uma data no formato dd/mm/aaaa e determine se a mesma é uma data válida."
   ]
  },
  {
   "cell_type": "code",
   "execution_count": 24,
   "id": "45aeb71c",
   "metadata": {},
   "outputs": [
    {
     "name": "stdout",
     "output_type": "stream",
     "text": [
      "Digite a data no formato dd/mm/aaaa: 29/02/2022\n",
      "Data inválida!\n"
     ]
    }
   ],
   "source": [
    "dia, mes, ano = input('Digite a data no formato dd/mm/aaaa: ').split('/')\n",
    "\n",
    "dia = int(dia)\n",
    "mes = int(mes)\n",
    "ano = int(ano)\n",
    "\n",
    "valido = False\n",
    "\n",
    "if mes >= 1 and mes <= 12:\n",
    "    if mes == 4 or mes == 6 or mes == 9 or mes == 11:\n",
    "        if dia >= 1 and dia <= 30:\n",
    "            valido = True\n",
    "    elif mes == 2:\n",
    "        if dia >= 1 and dia <= 28:\n",
    "            valido = True\n",
    "        elif ano % 4 == 0 and dia == 29:\n",
    "            valido = True\n",
    "    else:\n",
    "        if dia >= 1 and dia <= 31:\n",
    "            valido = True\n",
    "\n",
    "if valido:\n",
    "    print('Data válida!')\n",
    "else:\n",
    "    print('Data inválida!')"
   ]
  },
  {
   "cell_type": "markdown",
   "id": "8f5760af",
   "metadata": {},
   "source": [
    "#### 18. Faça um Programa que leia um número inteiro menor que 1000 e imprima a quantidade de centenas, dezenas e unidades do mesmo"
   ]
  },
  {
   "cell_type": "code",
   "execution_count": 25,
   "id": "a3d787b6",
   "metadata": {},
   "outputs": [
    {
     "name": "stdout",
     "output_type": "stream",
     "text": [
      "Digite um número menor que 1000: 937\n",
      "Centenas: 9\n",
      "Dezenas: 3\n",
      "Unidades: 7\n"
     ]
    }
   ],
   "source": [
    "n1 = int(input('Digite um número menor que 1000: '))\n",
    "\n",
    "centenas = n1 // 100\n",
    "dezenas = (n1 - centenas * 100) // 10\n",
    "unidades = (n1 - centenas * 100 - dezenas * 10)\n",
    "\n",
    "print('Centenas:', centenas)\n",
    "print('Dezenas:', dezenas)\n",
    "print('Unidades:', unidades)"
   ]
  },
  {
   "cell_type": "markdown",
   "id": "30282dd3",
   "metadata": {},
   "source": [
    "## Todos os feedbacks são bem vindos. Obrigado!"
   ]
  }
 ],
 "metadata": {
  "kernelspec": {
   "display_name": "Python 3 (ipykernel)",
   "language": "python",
   "name": "python3"
  },
  "language_info": {
   "codemirror_mode": {
    "name": "ipython",
    "version": 3
   },
   "file_extension": ".py",
   "mimetype": "text/x-python",
   "name": "python",
   "nbconvert_exporter": "python",
   "pygments_lexer": "ipython3",
   "version": "3.9.7"
  }
 },
 "nbformat": 4,
 "nbformat_minor": 5
}
