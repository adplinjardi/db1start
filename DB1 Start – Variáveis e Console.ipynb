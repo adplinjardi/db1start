{
 "cells": [
  {
   "cell_type": "markdown",
   "id": "96f44524",
   "metadata": {},
   "source": [
    "<h1 style=\"font-size:2em;font-family:Helvetica, sans-serif;color:red\">DB1 START – VARIÁVEIS E CONSOLE</h1>"
   ]
  },
  {
   "cell_type": "markdown",
   "id": "0eb441bc",
   "metadata": {},
   "source": [
    "<p style=\"font-family: Helvetica, sans-serif; margin: 0;\n",
    "  text-indent: 3em;\">Estes são os exercícios propostos pela atividade da 3ª Semana do Curso DB1 Start, trabalhando os tópicos sobre Variáveis e Console na linguagem Python. Este trabalho utiliza o Jupyter Notebook, e os conceitos de IDE e Versionamento para apresentação dos resultados.</p>"
   ]
  },
  {
   "cell_type": "markdown",
   "id": "ca3c9757",
   "metadata": {},
   "source": [
    "# Lista de Exercícios"
   ]
  },
  {
   "cell_type": "markdown",
   "id": "d803ad2c",
   "metadata": {},
   "source": [
    "### 1. Faça um Programa que mostre a mensagem \"Alo mundo\" na tela."
   ]
  },
  {
   "cell_type": "code",
   "execution_count": 5,
   "id": "17eef2e8",
   "metadata": {},
   "outputs": [
    {
     "name": "stdout",
     "output_type": "stream",
     "text": [
      "Alô mundo\n"
     ]
    }
   ],
   "source": [
    "print(\"Alô mundo\")"
   ]
  },
  {
   "cell_type": "markdown",
   "id": "888a83ab",
   "metadata": {},
   "source": [
    "### 2. Faça um Programa que peça um número e então mostre a mensagem \"O número informado foi [número]\".\n"
   ]
  },
  {
   "cell_type": "code",
   "execution_count": 4,
   "id": "bdb7b066",
   "metadata": {},
   "outputs": [
    {
     "name": "stdout",
     "output_type": "stream",
     "text": [
      "Por obséquio, vossa majestade. Digite um número: 12\n",
      "Uau, o número informado foi 12!\n"
     ]
    }
   ],
   "source": [
    "numero = input(\"Por obséquio, vossa majestade. Digite um número: \")\n",
    "print(f\"Uau, o número informado foi {numero}!\")"
   ]
  },
  {
   "cell_type": "markdown",
   "id": "a6c3309e",
   "metadata": {},
   "source": [
    "### 3. Faça um Programa que peça dois números e imprima a soma."
   ]
  },
  {
   "cell_type": "code",
   "execution_count": 6,
   "id": "4b763f15",
   "metadata": {},
   "outputs": [
    {
     "name": "stdout",
     "output_type": "stream",
     "text": [
      "Por favor, digite dois números para obter a soma: 40 85\n",
      "Voilà... a soma de 40 e 85 é 125\n"
     ]
    }
   ],
   "source": [
    "n1,n2 = input(\"Por favor, digite dois números para obter a soma: \").split(\" \")\n",
    "print(f\"Voilà... a soma de {n1} e {n2} é\", int(n1) + int(n2))"
   ]
  },
  {
   "cell_type": "markdown",
   "id": "8c9378ff",
   "metadata": {},
   "source": [
    "### 4. Faça um Programa que peça as 4 notas bimestrais e mostre a média."
   ]
  },
  {
   "cell_type": "code",
   "execution_count": 8,
   "id": "b950f975",
   "metadata": {},
   "outputs": [
    {
     "name": "stdout",
     "output_type": "stream",
     "text": [
      "Por favor, digite as quatro notas bimestrais separadas por um espaço: 72 85 92 65\n",
      "Muito bem, a média das notas é 78.5\n"
     ]
    }
   ],
   "source": [
    "n1,n2,n3,n4 = input(\"Por favor, digite as quatro notas bimestrais separadas por um espaço: \").split(\" \")\n",
    "print(\"Muito bem, a média das notas é\", (float(n1) + float(n2) + float(n3) + float(n4)) / 4)"
   ]
  },
  {
   "cell_type": "markdown",
   "id": "b1a7811f",
   "metadata": {},
   "source": [
    "### 5. Faça um Programa que converta metros para centímetros."
   ]
  },
  {
   "cell_type": "code",
   "execution_count": 9,
   "id": "209bde0a",
   "metadata": {},
   "outputs": [
    {
     "name": "stdout",
     "output_type": "stream",
     "text": [
      "Por favor, digite um valor em metros: 1.85\n",
      "Muito bem, 1.85 em centímetros é 185.0\n"
     ]
    }
   ],
   "source": [
    "n1 = float(input(\"Por favor, digite um valor em metros: \"))\n",
    "print(f\"Muito bem, {n1} em centímetros é {n1 * 100}\")"
   ]
  },
  {
   "cell_type": "markdown",
   "id": "35479e54",
   "metadata": {},
   "source": [
    "### 6. Faça um Programa que peça o raio de um círculo, calcule e mostre sua área."
   ]
  },
  {
   "cell_type": "code",
   "execution_count": 11,
   "id": "44de362a",
   "metadata": {},
   "outputs": [
    {
     "name": "stdout",
     "output_type": "stream",
     "text": [
      "Por favor, digite o raio do circulo: 5\n",
      "Muito bem, a área do círculo é 78.54\n"
     ]
    }
   ],
   "source": [
    "from math import pi\n",
    "r = float(input(\"Por favor, digite o raio do circulo: \"))\n",
    "area = (pi * r**2)\n",
    "print(\"Muito bem, a área do círculo é\", round(area,2))"
   ]
  },
  {
   "cell_type": "markdown",
   "id": "42dcef2c",
   "metadata": {},
   "source": [
    "### 7. Faça um Programa que calcule a área de um quadrado, em seguida mostre o dobro desta área para o usuário."
   ]
  },
  {
   "cell_type": "code",
   "execution_count": 12,
   "id": "c6a77bdf",
   "metadata": {},
   "outputs": [
    {
     "name": "stdout",
     "output_type": "stream",
     "text": [
      "Por favor, digite a medida de um dos lados do quadrado: 7\n",
      "Voilà... o dobro da area desse quadrado é 98.0\n"
     ]
    }
   ],
   "source": [
    "n1 = float(input(\"Por favor, digite a medida de um dos lados do quadrado: \"))\n",
    "print(\"Voilà... o dobro da area desse quadrado é\", (n1**2)*2)"
   ]
  },
  {
   "cell_type": "markdown",
   "id": "7ab21371",
   "metadata": {},
   "source": [
    "## Todos os feedbacks são bem vindos. Obrigado!"
   ]
  }
 ],
 "metadata": {
  "kernelspec": {
   "display_name": "Python 3 (ipykernel)",
   "language": "python",
   "name": "python3"
  },
  "language_info": {
   "codemirror_mode": {
    "name": "ipython",
    "version": 3
   },
   "file_extension": ".py",
   "mimetype": "text/x-python",
   "name": "python",
   "nbconvert_exporter": "python",
   "pygments_lexer": "ipython3",
   "version": "3.9.7"
  }
 },
 "nbformat": 4,
 "nbformat_minor": 5
}
